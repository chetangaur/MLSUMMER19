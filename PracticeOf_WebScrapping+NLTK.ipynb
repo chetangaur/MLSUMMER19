{
  "nbformat": 4,
  "nbformat_minor": 0,
  "metadata": {
    "colab": {
      "name": "PracticeOf_WebScrapping+NLTK.ipynb",
      "version": "0.3.2",
      "provenance": [],
      "collapsed_sections": []
    },
    "kernelspec": {
      "name": "python3",
      "display_name": "Python 3"
    }
  },
  "cells": [
    {
      "cell_type": "code",
      "metadata": {
        "id": "PoqSVT3WvN8O",
        "colab_type": "code",
        "colab": {}
      },
      "source": [
        "import requests"
      ],
      "execution_count": 0,
      "outputs": []
    },
    {
      "cell_type": "code",
      "metadata": {
        "id": "BIAfd4EGy_Up",
        "colab_type": "code",
        "colab": {}
      },
      "source": [
        "wiki_data=requests.get('https://en.wikipedia.org/wiki/The_Core')"
      ],
      "execution_count": 0,
      "outputs": []
    },
    {
      "cell_type": "code",
      "metadata": {
        "id": "yGqR9iFr0trT",
        "colab_type": "code",
        "colab": {}
      },
      "source": [
        "text_data=wiki_data.text"
      ],
      "execution_count": 0,
      "outputs": []
    },
    {
      "cell_type": "code",
      "metadata": {
        "id": "rzEvaYbb1JI-",
        "colab_type": "code",
        "colab": {}
      },
      "source": [
        "text_data"
      ],
      "execution_count": 0,
      "outputs": []
    },
    {
      "cell_type": "code",
      "metadata": {
        "id": "wfVRFcCy1Lvq",
        "colab_type": "code",
        "colab": {}
      },
      "source": [
        "from bs4 import BeautifulSoup\n",
        "soup=BeautifulSoup(text_data,'html5lib')"
      ],
      "execution_count": 0,
      "outputs": []
    },
    {
      "cell_type": "code",
      "metadata": {
        "id": "40lxEGpo1huv",
        "colab_type": "code",
        "outputId": "ce5c22e9-08f5-4c6f-d8c4-80ae5b950c23",
        "colab": {
          "base_uri": "https://localhost:8080/",
          "height": 35
        }
      },
      "source": [
        "type(soup)"
      ],
      "execution_count": 0,
      "outputs": [
        {
          "output_type": "execute_result",
          "data": {
            "text/plain": [
              "bs4.BeautifulSoup"
            ]
          },
          "metadata": {
            "tags": []
          },
          "execution_count": 9
        }
      ]
    },
    {
      "cell_type": "code",
      "metadata": {
        "id": "6upZl-RQ1p8r",
        "colab_type": "code",
        "colab": {}
      },
      "source": [
        "soup"
      ],
      "execution_count": 0,
      "outputs": []
    },
    {
      "cell_type": "code",
      "metadata": {
        "id": "9a2KZ_ic1q2w",
        "colab_type": "code",
        "outputId": "bbe2577a-ef98-44d1-e2fa-a923534a5943",
        "colab": {
          "base_uri": "https://localhost:8080/",
          "height": 55
        }
      },
      "source": [
        "soup_text_data=soup.get_text()\n",
        "soup_text_data"
      ],
      "execution_count": 29,
      "outputs": [
        {
          "output_type": "execute_result",
          "data": {
            "text/plain": [
              "'\\n\\nThe Core - Wikipedia\\ndocument.documentElement.className=document.documentElement.className.replace(/(^|\\\\s)client-nojs(\\\\s|$)/,\"$1client-js$2\");RLCONF={\"wgCanonicalNamespace\":\"\",\"wgCanonicalSpecialPageName\":!1,\"wgNamespaceNumber\":0,\"wgPageName\":\"The_Core\",\"wgTitle\":\"The Core\",\"wgCurRevisionId\":903268570,\"wgRevisionId\":903268570,\"wgArticleId\":210155,\"wgIsArticle\":!0,\"wgIsRedirect\":!1,\"wgAction\":\"view\",\"wgUserName\":null,\"wgUserGroups\":[\"*\"],\"wgCategories\":[\"Use mdy dates from July 2013\",\"2003 films\",\"English-language films\",\"2000s action films\",\"2000s disaster films\",\"2000s science fiction films\",\"American disaster films\",\"American science fiction action films\",\"American science fiction adventure films\",\"Films about nuclear technology\",\"Films about the United States Navy\",\"Films directed by Jon Amiel\",\"Films scored by Christopher Young\",\"Films set in Alaska\",\"Films set in Boston\",\"Films set in California\",\"Films set in Chicago\",\"Films set in London\",\"Films set in Los Angeles\",\"Films set in Paris\",\\n\"Films set in Rome\",\"Films set in San Francisco\",\"Films set in the Middle East\",\"Films set in the Pacific Ocean\",\"Films set in the San Francisco Bay Area\",\"Films set in Utah\",\"Films set in Washington, D.C.\",\"Films shot in Vancouver\",\"Paramount Pictures films\",\"Travel to the Earth\\'s center\"],\"wgBreakFrames\":!1,\"wgPageContentLanguage\":\"en\",\"wgPageContentModel\":\"wikitext\",\"wgSeparatorTransformTable\":[\"\",\"\"],\"wgDigitTransformTable\":[\"\",\"\"],\"wgDefaultDateFormat\":\"dmy\",\"wgMonthNames\":[\"\",\"January\",\"February\",\"March\",\"April\",\"May\",\"June\",\"July\",\"August\",\"September\",\"October\",\"November\",\"December\"],\"wgMonthNamesShort\":[\"\",\"Jan\",\"Feb\",\"Mar\",\"Apr\",\"May\",\"Jun\",\"Jul\",\"Aug\",\"Sep\",\"Oct\",\"Nov\",\"Dec\"],\"wgRelevantPageName\":\"The_Core\",\"wgRelevantArticleId\":210155,\"wgRequestId\":\"XRUGiQpAAD0AAEKlXasAAABI\",\"wgCSPNonce\":!1,\"wgIsProbablyEditable\":!0,\"wgRelevantPageIsProbablyEditable\":!0,\"wgRestrictionEdit\":[],\"wgRestrictionMove\":[],\"wgMediaViewerOnClick\":!0,\"wgMediaViewerEnabledByDefault\":!0,\\n\"wgPopupsReferencePreviews\":!1,\"wgPopupsConflictsWithNavPopupGadget\":!1,\"wgVisualEditor\":{\"pageLanguageCode\":\"en\",\"pageLanguageDir\":\"ltr\",\"pageVariantFallbacks\":\"en\"},\"wgMFDisplayWikibaseDescriptions\":{\"search\":!0,\"nearby\":!0,\"watchlist\":!0,\"tagline\":!1},\"wgWMESchemaEditAttemptStepOversample\":!1,\"wgPoweredByHHVM\":!0,\"wgULSCurrentAutonym\":\"English\",\"wgNoticeProject\":\"wikipedia\",\"wgCentralNoticeCategoriesUsingLegacy\":[\"Fundraising\",\"fundraising\"],\"wgWikibaseItemId\":\"Q1051469\",\"wgCentralAuthMobileDomain\":!1,\"wgEditSubmitButtonLabelPublish\":!0};RLSTATE={\"ext.gadget.charinsert-styles\":\"ready\",\"ext.globalCssJs.user.styles\":\"ready\",\"ext.globalCssJs.site.styles\":\"ready\",\"site.styles\":\"ready\",\"noscript\":\"ready\",\"user.styles\":\"ready\",\"ext.globalCssJs.user\":\"ready\",\"ext.globalCssJs.site\":\"ready\",\"user\":\"ready\",\"user.options\":\"ready\",\"user.tokens\":\"loading\",\"ext.cite.styles\":\"ready\",\"mediawiki.legacy.shared\":\"ready\",\"mediawiki.legacy.commonPrint\":\"ready\",\\n\"mediawiki.toc.styles\":\"ready\",\"wikibase.client.init\":\"ready\",\"ext.visualEditor.desktopArticleTarget.noscript\":\"ready\",\"ext.uls.interlanguage\":\"ready\",\"ext.wikimediaBadges\":\"ready\",\"ext.3d.styles\":\"ready\",\"mediawiki.skinning.interface\":\"ready\",\"skins.vector.styles\":\"ready\"};RLPAGEMODULES=[\"ext.cite.ux-enhancements\",\"site\",\"mediawiki.page.startup\",\"mediawiki.page.ready\",\"mediawiki.toc\",\"mediawiki.searchSuggest\",\"ext.gadget.teahouse\",\"ext.gadget.ReferenceTooltips\",\"ext.gadget.watchlist-notice\",\"ext.gadget.DRN-wizard\",\"ext.gadget.charinsert\",\"ext.gadget.refToolbar\",\"ext.gadget.extra-toolbar-buttons\",\"ext.gadget.switcher\",\"ext.centralauth.centralautologin\",\"mmv.head\",\"mmv.bootstrap.autostart\",\"ext.popups\",\"ext.visualEditor.desktopArticleTarget.init\",\"ext.visualEditor.targetLoader\",\"ext.eventLogging\",\"ext.wikimediaEvents\",\"ext.navigationTiming\",\"ext.uls.compactlinks\",\"ext.uls.interface\",\"ext.quicksurveys.init\",\"ext.centralNotice.geoIP\",\"ext.centralNotice.startUp\",\"skins.vector.js\"];\\n(RLQ=window.RLQ||[]).push(function(){mw.loader.implement(\"user.tokens@0tffind\",function($,jQuery,require,module){/*@nomin*/mw.user.tokens.set({\"editToken\":\"+\\\\\\\\\",\"patrolToken\":\"+\\\\\\\\\",\"watchToken\":\"+\\\\\\\\\",\"csrfToken\":\"+\\\\\\\\\"});\\n});});\\n\\n\\n\\n\\n\\n\\n\\n\\n\\n\\n\\n\\n\\n\\n\\n\\n\\n\\n\\n\\n\\n\\n\\n\\n\\n\\n\\n\\t\\n\\t\\n\\t\\n\\n\\n\\tThe Core\\n\\t\\n\\t\\n\\t\\tFrom Wikipedia, the free encyclopedia\\n\\t\\t\\n\\t\\t\\n\\t\\t\\n\\t\\t\\n\\t\\t\\n\\t\\tJump to navigation\\n\\t\\tJump to search\\n\\t\\tThis article is about the 2003 science fiction film. For other uses, see Core.\\n\\n\\nThe CoreTheatrical release posterDirected byJon AmielProduced by\\nSean Bailey\\nDavid Foster\\nCooper Layne\\nWritten by\\nCooper Layne\\nJohn Rogers\\nStarring\\nAaron Eckhart\\nHilary Swank\\nDelroy Lindo\\nStanley Tucci\\nTchéky Karyo\\nDJ Qualls\\nBruce Greenwood\\nAlfre Woodard\\nMusic byChristopher YoungCinematographyJohn LindleyEdited byTerry RawlingsDistributed byParamount PicturesRelease date\\nMarch\\xa028,\\xa02003\\xa0(2003-03-28)\\nRunning time135 minutesCountryUnited StatesLanguageEnglishBudget$85 million[1]Box office$74 million[1]\\nThe Core is a 2003 American science fiction disaster film directed by Jon Amiel and starring Aaron Eckhart, Hilary Swank, Delroy Lindo, Stanley Tucci, Tchéky Karyo, DJ Qualls, Bruce Greenwood and Alfre Woodard. The film focuses on a team whose mission is to drill to the center of the Earth and set off a series of nuclear explosions in order to restart the rotation of the Earth\\'s core. The film was released on March 28, 2003 by Paramount Pictures.\\n\\nContents\\n\\n1 Plot\\n2 Cast\\n3 Production\\n4 Reception\\n5 See also\\n6 References\\n7 External links\\n\\n\\n\\nPlot[edit]\\nGeophysicist Dr. Josh Keyes (Aaron Eckhart) and scientists Dr. Serge Leveque (Tchéky Karyo) and Dr. Conrad Zimsky (Stanley Tucci) become aware of an instability of Earth\\'s magnetic field after a series of bizarre incidents across the globe. They determine that the Earth\\'s molten core, which generates this field, has stopped rotating and that, within a year, the field will collapse, exposing the planet\\'s surface directly to devastating solar radiation. Backed by the U.S. Government, Keyes, Leveque, and Zimsky create a plan to bore down to the core and set off several nuclear explosions to restart the rotation. They gain the help of rogue scientist Dr. Ed \"Braz\" Brazzelton (Delroy Lindo), who has devised a vessel made of \"Unobtainium\" that can withstand the heat and pressure within the Earth\\'s crust and convert it to energy, as well as a laser-driven boring system that will allow them to quickly pass through the crust.\\nConstruction starts immediately on the Virgil, a multi-compartment vessel to be helmed by Space Shuttle Endeavour pilots Commander Robert Iverson (Bruce Greenwood) and Major Rebecca \"Beck\" Childs (Hilary Swank), who will join Keyes and the others. To prevent a worldwide panic, Keyes enlists computer hacker Theodore Donald \"Rat\" Finch (DJ Qualls) to scour the Internet and eliminate all traces of the pending disaster or their plan.\\nVirgil is launched through the Marianas Trench from an offshore platform. The team accidentally drills through a gigantic empty geode structure 700 miles below the surface, damaging the lasers when it lands at its base and cracking the geode\\'s structure and causing magma to flow in from above. The crew repair and restart the laser array in time, but before they can return to the ship, Iverson is killed by a falling crystal shard that hits him in the helmet.  As Virgil continues, it clips a huge diamond that breaches the hull of the last compartment. Leveque sacrifices himself to save the nuclear launch codes before the compartment is crushed by extreme pressure.\\nMeanwhile, on the surface, the public becomes aware of problems after a lightning superstorm and an unfiltered patch of ultra-violet radiation from the sun destroy Rome and San Francisco, respectively. Finch is unable to stop worldwide panic but instead learns of the top-secret project \"DESTINI\" (Deep Earth Seismic Trigger INItiative), which is the government\\'s \\'secondary protocol\\' and will be deployed should the Virgil mission fail. Finch relays his information to Keyes, who discovers that Zimsky was one of DESTINI\\'s lead scientists. DESTINI, according to Zimsky, was designed as a weapon to propagate earthquakes through the Earth\\'s core, but its first activation unintentionally stopped its rotation instead. Zimsky reveals the government will use it again to attempt a restart of the core. Keyes is convinced it will have disastrous results and has Finch hack into DESTINI\\'s system and cut its power supply to buy the Virgil more time.\\nVirgil eventually reaches the molten core, and, as they take readings, they discover that the density of the core is far different from what they expected, which will not allow their plan to work. They calculate that by splitting their nuclear weapons into the remaining compartments and jettisoning each at specific distances, they can create a \"ripple effect\", where the power of each bomb will push against the blast of the next, generating the energy required to restart the core. However, because Virgil was not designed to jettison undamaged compartments, the plan requires someone to deactivate a safety switch that is in an area exposed to the extreme temperatures. Braz volunteers and deactivates the switch, dying shortly afterwards.\\nKeyes and Zimsky race to reset the nuclear charges, and Zimsky gets trapped in one of the detaching compartments. Keyes believes they still may have too little yield, but Zimsky suggests they use the ship\\'s nuclear fuel source as well, which will leave the Virgil powerless; Zimsky then forces Keyes out of the compartment before it closes, sacrificing himself. Keyes deploys the nuclear core in the last compartment and detaches it just as the triggered detonations start, and then the core\\'s rotation is restarted. Drifting powerless in the core, Keyes and Childs realize they can use the unobtainium shell to convert the heat and pressure from the wavefront to power the Virgil, and they are able to escape from the Earth\\'s core.\\nThey break through the crust underwater, leaving them safe on the ocean floor, but power and communications are offline. They believe themselves lost underwater but use the remaining power to activate a weak sonar beacon. The beacon attracts a nearby whale pod, and Finch is able to trace their whale songs to locate the Virgil. A week after the mission, Finch unleashes the full details of the mission (including those lost) and of DESTINI to the public via the Internet.\\n\\nCast[edit]\\nAaron Eckhart as Dr. Joshua \"Josh\" Keyes, a scientist and professor at the University of Chicago who designs the navigation system for Virgil and is assigned as head of the project.\\nHilary Swank as Major Rebecca \"Beck\" Childs, USAF, an astronaut who distinguished herself during an emergency crash landing of the Space Shuttle Endeavour in Los Angeles, California, a result of the magnetic instability.\\nDelroy Lindo as Dr. Edward \"Braz\" Brazzelton, the designer of Virgil and the ultrasonic laser.\\nStanley Tucci as Dr. Conrad Zimsky, Earth specialist and designer of Project D.E.S.T.INI, based in London. He went on high alert after the magnetic instability caused an attack in Trafalgar Square by an enormous flock of pigeons.\\nTchéky Karyo as Dr. Serge Leveque, nuclear weapons specialist.\\nBruce Greenwood as Commander Robert \"Bob\" Iverson, USN, Major Childs\\' commander and mentor.\\nDJ Qualls as Theodore Donald \"Rat\" Finch, a computer hacker who is widely regarded as the best in the world, crippled the FBI\\'s database, recruited to control the flow of information on the Internet to prevent public panic.\\nAlfre Woodard as Dr. Talma \"Stick\" Stickley, the mission controller for NASA Space Shuttle Endeavour and Virgil.\\nRichard Jenkins as Lieutenant General Thomas Purcell, U.S. Army, leader of the operation.\\nFred Ewanuick (credited as Fred Ewanvick) as Endeavor Flight Engineer \"Jenkins\".\\nProduction[edit]\\nThe Core had out-to-sea scenes, starring USS\\xa0Abraham Lincoln\\xa0(CVN-72), with full support of the US Navy.\\nThe original plan for the shuttle landing scene had been for Endeavour to attempt a landing at Los Angeles International Airport with the shuttle coming to a halt on the nearby beaches, however due to the events of September 11 2001 the crew were not allowed to film at LAX. The scene was therefore rewritten with Endeavour landing in the LA river.\\n\\nReception[edit]\\nThe film garnered mixed reviews. The film received 40% positive reviews out of 156 reviews, with an average rating of 5.2/10 at the movie review aggregator Rotten Tomatoes; the site\\'s consensus states \"a B-movie with its tongue planted firmly in cheek, The Core is so unintentionally (intentionally?) bad that it\\'s a hoot.\" Several reviews cited the numerous scientific inaccuracies in the film.  The film made only $31 million in United States theaters, and another $42 million overseas for a total worldwide gross of $74,132,631.[1] thus failing to make its $85 million production budget back.\\nElvis Mitchell, of The New York Times, said, \"The brazen silliness of The Core is becalming and inauthentic, like taking a bath in nondairy coffee creamer. The Earth core\\'s inability to turn is mirrored in the cast\\'s inability to give the picture any spin.\"[2] Kenneth Turan, of the Los Angeles Times, was a little more forgiving, saying, \"If The Core finally has to be classified as a mess, it is an enjoyable one if you\\'re in a throwback mood. After all, a film that comes up with a rare metal called Unobtainium can\\'t be dismissed out of hand.\"[3]\\nIn response to criticism of his screenplay\\'s lack of scientific realism, screenwriter John Rogers responded that he tried to make the science accurate, but expended three years fighting \"to get rid of the ... dinosaurs, magma-walks in \\'space-suits\\', bullshit-sci-crap sources for the Earth\\'s crisis, and a windshield for the ship Virgil.\"[4]\\nOn March 30, 2009, it was reported that Dustin Hoffman was leading a campaign to get more real science into science-fiction movies. Hoffman is on the advisory board of the Science & Entertainment Exchange, an initiative of the United States National Academy of Sciences, intended to foster collaborations between scientists and entertainment industry professionals in order to minimize inaccurate representations of science and technology such as those found in The Core.[5]\\nIn a poll of hundreds of scientists about bad science fiction films, The Core was voted the worst.[5]\\nOn February 21, 2010, The Guardian ran an article about American professor Sidney Perkowitz\\'s proposals to curb bad science in science fiction movies. In the article, Perkowitz is said to have hated The Core. \"If you violate [the coherent rules of science] you are in trouble. The chances are that the public will pick it up and that is what matters to Hollywood. The Core did not make money because people understood the science was so out to lunch,\" he added.[6]\\n\\nSee also[edit]\\nDeep Core, 2000 film with a similar plot\\nDescent, 2005 film with a similar plot\\nReferences[edit]\\n\\n\\n^ a b c The Numbers.com\\n\\n^ Mitchell, Elvis (March 28, 2003). \"Movie Review - \\'The Core\\' - Trying to Jump-Start the Earth\\'s Heart\". The New York Times. Retrieved December 19, 2011..mw-parser-output cite.citation{font-style:inherit}.mw-parser-output .citation q{quotes:\"\\\\\"\"\"\\\\\"\"\"\\'\"\"\\'\"}.mw-parser-output .citation .cs1-lock-free a{background:url(\"//upload.wikimedia.org/wikipedia/commons/thumb/6/65/Lock-green.svg/9px-Lock-green.svg.png\")no-repeat;background-position:right .1em center}.mw-parser-output .citation .cs1-lock-limited a,.mw-parser-output .citation .cs1-lock-registration a{background:url(\"//upload.wikimedia.org/wikipedia/commons/thumb/d/d6/Lock-gray-alt-2.svg/9px-Lock-gray-alt-2.svg.png\")no-repeat;background-position:right .1em center}.mw-parser-output .citation .cs1-lock-subscription a{background:url(\"//upload.wikimedia.org/wikipedia/commons/thumb/a/aa/Lock-red-alt-2.svg/9px-Lock-red-alt-2.svg.png\")no-repeat;background-position:right .1em center}.mw-parser-output .cs1-subscription,.mw-parser-output .cs1-registration{color:#555}.mw-parser-output .cs1-subscription span,.mw-parser-output .cs1-registration span{border-bottom:1px dotted;cursor:help}.mw-parser-output .cs1-ws-icon a{background:url(\"//upload.wikimedia.org/wikipedia/commons/thumb/4/4c/Wikisource-logo.svg/12px-Wikisource-logo.svg.png\")no-repeat;background-position:right .1em center}.mw-parser-output code.cs1-code{color:inherit;background:inherit;border:inherit;padding:inherit}.mw-parser-output .cs1-hidden-error{display:none;font-size:100%}.mw-parser-output .cs1-visible-error{font-size:100%}.mw-parser-output .cs1-maint{display:none;color:#33aa33;margin-left:0.3em}.mw-parser-output .cs1-subscription,.mw-parser-output .cs1-registration,.mw-parser-output .cs1-format{font-size:95%}.mw-parser-output .cs1-kern-left,.mw-parser-output .cs1-kern-wl-left{padding-left:0.2em}.mw-parser-output .cs1-kern-right,.mw-parser-output .cs1-kern-wl-right{padding-right:0.2em}\\n\\n^ \"\\'The Core\\' - MOVIE REVIEW\". Los Angeles Times. March 28, 2003. Retrieved November 25, 2013.\\n\\n^ \"The Screenwriter Of THE CORE Responds!!\". Ain\\'t It Cool News. January 4, 2003.\\n\\n^ a b \"\\'Actor Dustin Hoffman lobbies for more reality in science-fiction movies\\'\". News.com.au. March 30, 2009. Retrieved September 9, 2013.\\n\\n^ Ian Sample (February 21, 2010). \"Drive to make Hollywood obey the laws of science | Film\". The Guardian. London. Retrieved March 2, 2010.\\n\\n\\nExternal links[edit]\\n\\n\\n\\nWikiquote has quotations related to: The Core\\n\\nThe Core on IMDb \\nThe Core at AllMovie\\nThe Core at Box Office Mojo\\nThe Core at Metacritic\\nThe Core at Rotten Tomatoes\\nReview of The physics of The Core at Bad Astronomy\\nReview of The Core at Intuitor.com\\nvteFilms directed by Jon Amiel\\nThe Silent Twins (1986)\\nQueen of Hearts (1989)\\nTune in Tomorrow (1990)\\nSommersby (1993)\\nCopycat (1995)\\nThe Man Who Knew Too Little (1997)\\nEntrapment (1999)\\nThe Core (2003)\\nCreation (2009)\\nDeliverance Creek (2014)\\n\\n\\n\\n\\n\\n\\n\\t\\t\\n\\t\\tRetrieved from \"https://en.wikipedia.org/w/index.php?title=The_Core&oldid=903268570\"\\n\\t\\t\\n\\t\\tCategories: 2003 filmsEnglish-language films2000s action films2000s disaster films2000s science fiction filmsAmerican disaster filmsAmerican science fiction action filmsAmerican science fiction adventure filmsFilms about nuclear technologyFilms about the United States NavyFilms directed by Jon AmielFilms scored by Christopher YoungFilms set in AlaskaFilms set in BostonFilms set in CaliforniaFilms set in ChicagoFilms set in LondonFilms set in Los AngelesFilms set in ParisFilms set in RomeFilms set in San FranciscoFilms set in the Middle EastFilms set in the Pacific OceanFilms set in the San Francisco Bay AreaFilms set in UtahFilms set in Washington, D.C.Films shot in VancouverParamount Pictures filmsTravel to the Earth\\'s centerHidden categories: Use mdy dates from July 2013\\n\\t\\t\\n\\t\\t\\n\\t\\t\\n\\t\\n\\n\\n\\t\\t\\n\\t\\t\\tNavigation menu\\n\\t\\t\\t\\n\\t\\t\\t\\t\\t\\t\\t\\t\\t\\n\\t\\t\\t\\t\\t\\tPersonal tools\\n\\t\\t\\t\\t\\t\\t\\n\\t\\t\\t\\t\\t\\t\\tNot logged inTalkContributionsCreate accountLog in\\t\\t\\t\\t\\t\\t\\n\\t\\t\\t\\t\\t\\n\\t\\t\\t\\t\\t\\t\\t\\t\\t\\n\\t\\t\\t\\t\\t\\t\\t\\t\\t\\t\\n\\t\\t\\t\\t\\t\\tNamespaces\\n\\t\\t\\t\\t\\t\\t\\n\\t\\t\\t\\t\\t\\t\\tArticleTalk\\t\\t\\t\\t\\t\\t\\n\\t\\t\\t\\t\\t\\n\\t\\t\\t\\t\\t\\t\\t\\t\\t\\t\\n\\t\\t\\t\\t\\t\\t\\t\\t\\t\\t\\t\\t\\n\\t\\t\\t\\t\\t\\t\\n\\t\\t\\t\\t\\t\\t\\tVariants\\n\\t\\t\\t\\t\\t\\t\\n\\t\\t\\t\\t\\t\\t\\n\\t\\t\\t\\t\\t\\t\\t\\t\\t\\t\\t\\t\\t\\n\\t\\t\\t\\t\\t\\n\\t\\t\\t\\t\\t\\t\\t\\t\\t\\n\\t\\t\\t\\t\\n\\t\\t\\t\\t\\t\\t\\t\\t\\t\\t\\n\\t\\t\\t\\t\\t\\tViews\\n\\t\\t\\t\\t\\t\\t\\n\\t\\t\\t\\t\\t\\t\\tReadEditView history\\t\\t\\t\\t\\t\\t\\n\\t\\t\\t\\t\\t\\n\\t\\t\\t\\t\\t\\t\\t\\t\\t\\t\\n\\t\\t\\t\\t\\t\\t\\n\\t\\t\\t\\t\\t\\tMore\\n\\t\\t\\t\\t\\t\\t\\n\\t\\t\\t\\t\\t\\t\\t\\t\\t\\t\\t\\t\\t\\n\\t\\t\\t\\t\\t\\n\\t\\t\\t\\t\\t\\t\\t\\t\\t\\t\\n\\t\\t\\t\\t\\t\\t\\n\\t\\t\\t\\t\\t\\t\\tSearch\\n\\t\\t\\t\\t\\t\\t\\n\\t\\t\\t\\t\\t\\t\\n\\t\\t\\t\\t\\t\\t\\t\\n\\t\\t\\t\\t\\t\\t\\t\\t\\t\\t\\t\\t\\t\\t\\t\\n\\t\\t\\t\\t\\t\\t\\n\\t\\t\\t\\t\\t\\n\\t\\t\\t\\t\\t\\t\\t\\t\\t\\n\\t\\t\\t\\n\\t\\t\\t\\n\\t\\t\\t\\t\\n\\t\\t\\t\\t\\t\\t\\n\\t\\t\\tNavigation\\n\\t\\t\\t\\n\\t\\t\\t\\t\\t\\t\\t\\t\\n\\t\\t\\t\\t\\tMain pageContentsFeatured contentCurrent eventsRandom articleDonate to WikipediaWikipedia store\\t\\t\\t\\t\\n\\t\\t\\t\\t\\t\\t\\t\\n\\t\\t\\n\\t\\t\\t\\n\\t\\t\\tInteraction\\n\\t\\t\\t\\n\\t\\t\\t\\t\\t\\t\\t\\t\\n\\t\\t\\t\\t\\tHelpAbout WikipediaCommunity portalRecent changesContact page\\t\\t\\t\\t\\n\\t\\t\\t\\t\\t\\t\\t\\n\\t\\t\\n\\t\\t\\t\\n\\t\\t\\tTools\\n\\t\\t\\t\\n\\t\\t\\t\\t\\t\\t\\t\\t\\n\\t\\t\\t\\t\\tWhat links hereRelated changesUpload fileSpecial pagesPermanent linkPage informationWikidata itemCite this page\\t\\t\\t\\t\\n\\t\\t\\t\\t\\t\\t\\t\\n\\t\\t\\n\\t\\t\\t\\n\\t\\t\\tIn other projects\\n\\t\\t\\t\\n\\t\\t\\t\\t\\t\\t\\t\\t\\n\\t\\t\\t\\t\\tWikiquote\\t\\t\\t\\t\\n\\t\\t\\t\\t\\t\\t\\t\\n\\t\\t\\n\\t\\t\\t\\n\\t\\t\\tPrint/export\\n\\t\\t\\t\\n\\t\\t\\t\\t\\t\\t\\t\\t\\n\\t\\t\\t\\t\\tCreate a bookDownload as PDFPrintable version\\t\\t\\t\\t\\n\\t\\t\\t\\t\\t\\t\\t\\n\\t\\t\\n\\t\\t\\t\\n\\t\\t\\tLanguages\\n\\t\\t\\t\\n\\t\\t\\t\\t\\t\\t\\t\\t\\n\\t\\t\\t\\t\\tCatalàDanskDeutschEspañolEuskaraفارسیFrançaisGalego한국어ItalianoMagyarBahasa MelayuNederlands日本語PortuguêsРусскийSlovenščinaSuomiSvenskaTürkçe中文\\t\\t\\t\\t\\n\\t\\t\\t\\tEdit links\\t\\t\\t\\n\\t\\t\\n\\t\\t\\t\\t\\n\\t\\t\\n\\t\\t\\t\\t\\n\\t\\t\\t\\t\\t\\t\\n\\t\\t\\t\\t\\t\\t\\t\\t This page was last edited on 24 June 2019, at 17:30\\xa0(UTC).\\n\\t\\t\\t\\t\\t\\t\\t\\tText is available under the Creative Commons Attribution-ShareAlike License;\\nadditional terms may apply.  By using this site, you agree to the Terms of Use and Privacy Policy. Wikipedia® is a registered trademark of the Wikimedia Foundation, Inc., a non-profit organization.\\n\\t\\t\\t\\t\\t\\t\\t\\n\\t\\t\\t\\t\\t\\t\\n\\t\\t\\t\\t\\t\\t\\t\\tPrivacy policy\\n\\t\\t\\t\\t\\t\\t\\t\\tAbout Wikipedia\\n\\t\\t\\t\\t\\t\\t\\t\\tDisclaimers\\n\\t\\t\\t\\t\\t\\t\\t\\tContact Wikipedia\\n\\t\\t\\t\\t\\t\\t\\t\\tDevelopers\\n\\t\\t\\t\\t\\t\\t\\t\\tCookie statement\\n\\t\\t\\t\\t\\t\\t\\t\\tMobile view\\n\\t\\t\\t\\t\\t\\t\\t\\n\\t\\t\\t\\t\\t\\t\\t\\t\\t\\t\\n\\t\\t\\t\\t\\t\\t\\t\\t\\t\\t\\n\\t\\t\\t\\t\\t\\t\\t\\t\\t\\t\\t\\n\\t\\t\\t\\t\\t\\t\\t\\t\\t\\t\\n\\t\\t\\t\\t\\t\\t\\t\\t\\t\\t\\t\\n\\t\\t\\t\\t\\t\\t\\t\\t\\t\\n\\t\\t\\t\\t\\t\\t\\n\\t\\t\\n\\t\\t\\n\\n(RLQ=window.RLQ||[]).push(function(){mw.config.set({\"wgPageParseReport\":{\"limitreport\":{\"cputime\":\"0.340\",\"walltime\":\"0.482\",\"ppvisitednodes\":{\"value\":1706,\"limit\":1000000},\"ppgeneratednodes\":{\"value\":0,\"limit\":1500000},\"postexpandincludesize\":{\"value\":27429,\"limit\":2097152},\"templateargumentsize\":{\"value\":2681,\"limit\":2097152},\"expansiondepth\":{\"value\":21,\"limit\":40},\"expensivefunctioncount\":{\"value\":2,\"limit\":500},\"unstrip-depth\":{\"value\":1,\"limit\":20},\"unstrip-size\":{\"value\":15597,\"limit\":5000000},\"entityaccesscount\":{\"value\":1,\"limit\":400},\"timingprofile\":[\"100.00%  415.682      1 -total\",\" 29.15%  121.152      1 Template:Reflist\",\" 22.42%   93.183      3 Template:Cite_news\",\" 19.69%   81.839      1 Template:Infobox_film\",\" 16.46%   68.420      1 Template:Infobox\",\" 10.90%   45.295      1 Template:About\",\"  9.75%   40.527      1 Template:IMDb_title\",\"  5.82%   24.200      1 Template:Use_mdy_dates\",\"  5.80%   24.130      1 Template:USS\",\"  5.16%   21.429      1 Template:Ship\"]},\"scribunto\":{\"limitreport-timeusage\":{\"value\":\"0.139\",\"limit\":\"10.000\"},\"limitreport-memusage\":{\"value\":4284879,\"limit\":52428800}},\"cachereport\":{\"origin\":\"mw1267\",\"timestamp\":\"20190627174538\",\"ttl\":3600,\"transientcontent\":true}}});});\\n{\"@context\":\"https:\\\\/\\\\/schema.org\",\"@type\":\"Article\",\"name\":\"The Core\",\"url\":\"https:\\\\/\\\\/en.wikipedia.org\\\\/wiki\\\\/The_Core\",\"sameAs\":\"http:\\\\/\\\\/www.wikidata.org\\\\/entity\\\\/Q1051469\",\"mainEntity\":\"http:\\\\/\\\\/www.wikidata.org\\\\/entity\\\\/Q1051469\",\"author\":{\"@type\":\"Organization\",\"name\":\"Contributors to Wikimedia projects\"},\"publisher\":{\"@type\":\"Organization\",\"name\":\"Wikimedia Foundation, Inc.\",\"logo\":{\"@type\":\"ImageObject\",\"url\":\"https:\\\\/\\\\/www.wikimedia.org\\\\/static\\\\/images\\\\/wmf-hor-googpub.png\"}},\"datePublished\":\"2003-04-14T01:04:43Z\",\"dateModified\":\"2019-06-24T17:30:12Z\",\"image\":\"https:\\\\/\\\\/upload.wikimedia.org\\\\/wikipedia\\\\/en\\\\/f\\\\/f4\\\\/The_Core_poster.jpg\",\"headline\":\"2003 American science fiction disaster film directed by Jon Amiel\"}\\n(RLQ=window.RLQ||[]).push(function(){mw.config.set({\"wgBackendResponseTime\":150,\"wgHostname\":\"mw1266\"});});\\n\\n\\n'"
            ]
          },
          "metadata": {
            "tags": []
          },
          "execution_count": 29
        }
      ]
    },
    {
      "cell_type": "code",
      "metadata": {
        "id": "ChM63mWS14DE",
        "colab_type": "code",
        "colab": {}
      },
      "source": [
        "with open('mydata1.txt','w+') as f:\n",
        "  f.write(soup_text_data)"
      ],
      "execution_count": 0,
      "outputs": []
    },
    {
      "cell_type": "code",
      "metadata": {
        "id": "ANlcUiLf29QY",
        "colab_type": "code",
        "colab": {}
      },
      "source": [
        "f = open('mydata1.txt','r')\n",
        "a=f.read()\n",
        "  "
      ],
      "execution_count": 0,
      "outputs": []
    },
    {
      "cell_type": "code",
      "metadata": {
        "id": "-H6K7bsO3tJ7",
        "colab_type": "code",
        "outputId": "23a36dc6-e7ce-4fd2-b225-3e5aa9208aff",
        "colab": {
          "base_uri": "https://localhost:8080/",
          "height": 35
        }
      },
      "source": [
        "type(a)"
      ],
      "execution_count": 0,
      "outputs": [
        {
          "output_type": "execute_result",
          "data": {
            "text/plain": [
              "str"
            ]
          },
          "metadata": {
            "tags": []
          },
          "execution_count": 12
        }
      ]
    },
    {
      "cell_type": "code",
      "metadata": {
        "id": "pc_gylqMHE0u",
        "colab_type": "code",
        "colab": {}
      },
      "source": [
        "import matplotlib.pyplot as plt\n",
        "import nltk\n",
        "c=[i for i in a.split()]"
      ],
      "execution_count": 0,
      "outputs": []
    },
    {
      "cell_type": "code",
      "metadata": {
        "id": "PfCFDY5qHfQD",
        "colab_type": "code",
        "colab": {}
      },
      "source": [
        "b=nltk.FreqDist(c)\n",
        "b"
      ],
      "execution_count": 0,
      "outputs": []
    },
    {
      "cell_type": "code",
      "metadata": {
        "id": "IaQBxOXNHqsQ",
        "colab_type": "code",
        "outputId": "e2db2b1b-733d-4aa4-9063-351a0cbfb53d",
        "colab": {
          "base_uri": "https://localhost:8080/",
          "height": 311
        }
      },
      "source": [
        "b.plot(20)"
      ],
      "execution_count": 34,
      "outputs": [
        {
          "output_type": "display_data",
          "data": {
            "image/png": "[encoded data removed]",
            "text/plain": [
              "<Figure size 432x288 with 1 Axes>"
            ]
          },
          "metadata": {
            "tags": []
          }
        }
      ]
    },
    {
      "cell_type": "code",
      "metadata": {
        "id": "OgDwKd-JHwAQ",
        "colab_type": "code",
        "colab": {
          "base_uri": "https://localhost:8080/",
          "height": 70
        },
        "outputId": "3daadd33-a8ab-4575-fb87-fa9ec40299ad"
      },
      "source": [
        "from nltk.corpus import stopwords\n",
        "nltk.download('stopwords')"
      ],
      "execution_count": 37,
      "outputs": [
        {
          "output_type": "stream",
          "text": [
            "[nltk_data] Downloading package stopwords to /root/nltk_data...\n",
            "[nltk_data]   Unzipping corpora/stopwords.zip.\n"
          ],
          "name": "stdout"
        },
        {
          "output_type": "execute_result",
          "data": {
            "text/plain": [
              "True"
            ]
          },
          "metadata": {
            "tags": []
          },
          "execution_count": 37
        }
      ]
    },
    {
      "cell_type": "code",
      "metadata": {
        "id": "B94QZjjpIrr6",
        "colab_type": "code",
        "colab": {}
      },
      "source": [
        "removed_words=[i for i in c if i.lower() not in stopwords.words('english')] "
      ],
      "execution_count": 0,
      "outputs": []
    },
    {
      "cell_type": "code",
      "metadata": {
        "id": "yQa-K_TdQegA",
        "colab_type": "code",
        "colab": {}
      },
      "source": [
        "removed_data=nltk.FreqDist(removed_words)"
      ],
      "execution_count": 0,
      "outputs": []
    },
    {
      "cell_type": "code",
      "metadata": {
        "id": "mAd21jBgRMz6",
        "colab_type": "code",
        "colab": {
          "base_uri": "https://localhost:8080/",
          "height": 314
        },
        "outputId": "2f211db0-1b42-4156-b36a-524f23edbaa2"
      },
      "source": [
        "removed_data.plot(20)"
      ],
      "execution_count": 43,
      "outputs": [
        {
          "output_type": "display_data",
          "data": {
            "image/png": "[encoded data removed]",
            "text/plain": [
              "<Figure size 432x288 with 1 Axes>"
            ]
          },
          "metadata": {
            "tags": []
          }
        }
      ]
    },
    {
      "cell_type": "code",
      "metadata": {
        "id": "H7jadZnURoVU",
        "colab_type": "code",
        "colab": {}
      },
      "source": [
        ""
      ],
      "execution_count": 0,
      "outputs": []
    }
  ]
}