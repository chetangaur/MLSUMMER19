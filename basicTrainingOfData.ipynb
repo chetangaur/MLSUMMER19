{
  "nbformat": 4,
  "nbformat_minor": 0,
  "metadata": {
    "colab": {
      "name": "basicTrainingOfData.ipynb",
      "version": "0.3.2",
      "provenance": []
    },
    "kernelspec": {
      "name": "python3",
      "display_name": "Python 3"
    }
  },
  "cells": [
    {
      "cell_type": "code",
      "metadata": {
        "id": "EB4y-E6s0zHc",
        "colab_type": "code",
        "colab": {}
      },
      "source": [
        "import numpy as np\n",
        "import pandas as pd\n",
        "from sklearn.tree import DecisionTreeClassifier      #importing decision tree classifier onlt"
      ],
      "execution_count": 0,
      "outputs": []
    },
    {
      "cell_type": "code",
      "metadata": {
        "id": "krS2FaS51FGz",
        "colab_type": "code",
        "colab": {}
      },
      "source": [
        "# this is a apple or orange\n",
        "# here smooth is for apple and bumpy is for orange\n",
        "features=[[100, 0], [120,0], [130,1], [150,1]]"
      ],
      "execution_count": 0,
      "outputs": []
    },
    {
      "cell_type": "code",
      "metadata": {
        "id": "d8IOrVZY1FVT",
        "colab_type": "code",
        "colab": {}
      },
      "source": [
        "# here 0 for smooth and 1 for bumpy\n",
        "# now answers accordingly\n",
        "label = [\"apple\", \"apple\", \"orange\", \"orange\"]"
      ],
      "execution_count": 0,
      "outputs": []
    },
    {
      "cell_type": "code",
      "metadata": {
        "id": "drNyx0nw1FhD",
        "colab_type": "code",
        "colab": {}
      },
      "source": [
        "# calling decision tree classifier\n",
        "clf= DecisionTreeClassifier()"
      ],
      "execution_count": 0,
      "outputs": []
    },
    {
      "cell_type": "code",
      "metadata": {
        "id": "o_a38ZdZ1Fws",
        "colab_type": "code",
        "colab": {}
      },
      "source": [
        "# training the machine by given data\n",
        "trained=clf.fit(features, label)"
      ],
      "execution_count": 0,
      "outputs": []
    },
    {
      "cell_type": "code",
      "metadata": {
        "id": "sZLO5TFE1heP",
        "colab_type": "code",
        "colab": {
          "base_uri": "https://localhost:8080/",
          "height": 35
        },
        "outputId": "4ade6672-27ed-42e1-87bf-1bdd1b12a34d"
      },
      "source": [
        "# predicting the answer \n",
        "trained.predict([[135,0]])"
      ],
      "execution_count": 6,
      "outputs": [
        {
          "output_type": "execute_result",
          "data": {
            "text/plain": [
              "array(['apple'], dtype='<U6')"
            ]
          },
          "metadata": {
            "tags": []
          },
          "execution_count": 6
        }
      ]
    },
    {
      "cell_type": "code",
      "metadata": {
        "id": "Lr7Y07db1hrF",
        "colab_type": "code",
        "colab": {
          "base_uri": "https://localhost:8080/",
          "height": 35
        },
        "outputId": "0eed1edd-13bd-45a5-f1bc-87324a3bb29c"
      },
      "source": [
        "trained.predict([[133.8, 0]])"
      ],
      "execution_count": 7,
      "outputs": [
        {
          "output_type": "execute_result",
          "data": {
            "text/plain": [
              "array(['apple'], dtype='<U6')"
            ]
          },
          "metadata": {
            "tags": []
          },
          "execution_count": 7
        }
      ]
    },
    {
      "cell_type": "code",
      "metadata": {
        "id": "76dWBxT21ujb",
        "colab_type": "code",
        "colab": {}
      },
      "source": [
        ""
      ],
      "execution_count": 0,
      "outputs": []
    }
  ]
}